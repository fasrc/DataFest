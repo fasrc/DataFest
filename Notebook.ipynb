{
 "cells": [
  {
   "cell_type": "markdown",
   "metadata": {},
   "source": [
    "## [**Harvard DataFest 2020**](https://harvarddatafest2020.sched.com/event/YNuw/data-intensive-non-linear-dimensionality-reduction-and-visualization-t-sne-pca-using-notebooks-on-cluster-gpu-cpu-implementations?iframe=yes&w=100%&sidebar=yes&bg=no)\n",
    "\n",
    "**Session Topic**: Data Intensive (Non)-Linear Dimensionality Reduction and Visualization (t-SNE & PCA) Using Notebooks on Cluster: GPU & CPU Implementations\n",
    "\n",
    "**Date/Time**: Wednesday, January 22 , 3:00pm - 4:45pm\n",
    "\n",
    "**Speaker**: Mahmood M. Shad (Manager of Research Software Engineering, FAS Research Computing)"
   ]
  },
  {
   "cell_type": "markdown",
   "metadata": {},
   "source": [
    "## Outline\n",
    "\n",
    "#### 1. Import Python modules and define general functions  \n",
    "#### 2. Datasets  \n",
    "#### 3. Introduction to PCA   \n",
    "#### 4. PCA on small and large dataset: CPU  \n",
    "#### 5. PCA on small and large dataset: GPU  \n",
    "#### 6. Introduction to t-SNE   \n",
    "#### 7. t-SNE on small and large dataset: CPU  \n",
    "#### 8. t-SNE on small and large dataset: GPU  "
   ]
  },
  {
   "cell_type": "markdown",
   "metadata": {},
   "source": [
    "## 1. Import Python modules and define general functions"
   ]
  },
  {
   "cell_type": "code",
   "execution_count": 2,
   "metadata": {},
   "outputs": [],
   "source": [
    "# Import Python Modules\n",
    "\n",
    "# Timing\n",
    "import time\n",
    "\n",
    "# Plot\n",
    "import matplotlib.pyplot as plt\n",
    "\n",
    "# Read data\n",
    "import h5py\n",
    "import numpy as np\n",
    "\n",
    "# PCA\n",
    "from sklearn.preprocessing import StandardScaler\n",
    "from sklearn.decomposition import PCA\n",
    "\n",
    "from cuml import PCA as cumlPCA\n",
    "from cuml.decomposition import PCA as cumlPCA\n",
    "\n",
    "\n",
    "# t-SNE\n",
    "from sklearn.manifold import TSNE\n",
    "from MulticoreTSNE import MulticoreTSNE as mlcoreTSNE\n",
    "from cuml.manifold import TSNE as cumlTSNE"
   ]
  },
  {
   "cell_type": "code",
   "execution_count": 3,
   "metadata": {},
   "outputs": [],
   "source": [
    "class Timer(object):\n",
    "    \"\"\"\n",
    "    Time code snippets\n",
    "    \"\"\"\n",
    "    \n",
    "    def __init__(self, name=None):\n",
    "        self.name = name\n",
    "\n",
    "    def __enter__(self):\n",
    "        self.tstart = time.time()\n",
    "\n",
    "    def __exit__(self, type, value, traceback):\n",
    "        if self.name:\n",
    "            print('[%s]' % self.name,)\n",
    "        print('Elapsed: %s' % (time.time() - self.tstart) + '\\n')\n",
    "\n",
    "        \n",
    "def plot_pca(prc1, prc2, title_ex=\"\"):\n",
    "    \"\"\"\n",
    "    Plot PCA\n",
    "    \"\"\"\n",
    "    \n",
    "    fig = plt.figure()\n",
    "    ax = fig.add_subplot(111)\n",
    "\n",
    "    ax.scatter(prc1, prc2, s=2, c=\"blue\", alpha=0.2, marker=\"o\", label='PCA')\n",
    "    plt.xlabel('PC 1')\n",
    "    plt.ylabel('PC 2')  \n",
    "    plt.title('Principal Components Plot' + \": \" + title_ex)\n",
    "    plt.legend(loc='upper right');\n",
    "    plt.show()\n",
    "    \n",
    "    \n",
    "def load_hdf5(f_name):\n",
    "    \"\"\"\n",
    "    Load HDF5 dataset\n",
    "    \"\"\"\n",
    "    \n",
    "    with h5py.File(f_name, 'r') as f:\n",
    "        a_group_key = list(f.keys())[0]\n",
    "        data = np.array(f[a_group_key]).T\n",
    "    return data"
   ]
  },
  {
   "cell_type": "markdown",
   "metadata": {},
   "source": [
    "## 2. Datasets\n",
    "\n",
    "Download datasets: [Dropbox Link](https://www.dropbox.com/sh/jnqak5qhxol0zig/AABizfe1vaCbqSF1FjJmWZNya?dl=0)\n",
    "\n",
    "You can check the structure of an HDF5 file in [HDF View Software](https://www.hdfgroup.org/downloads/hdfview/). The software is available for free by [The HDF Group](https://www.hdfgroup.org/downloads/hdfview/).\n",
    "\n",
    "\n",
    "**Advantage of HDF5 format**:\n",
    "- Hierarchical structure (same as folders/files)\n",
    "- Optional metadata for each item\n",
    "- Flexibly sized. No need to re-write the whole data\n",
    "- Optional chunked HDF5 dataset (faster read): large matrices\n",
    "- Self-contained data store (rather than a database)\n",
    "- Widely supported (despite npy/npz numpy files): C, Java, Perl, Python, and R"
   ]
  },
  {
   "cell_type": "code",
   "execution_count": 4,
   "metadata": {},
   "outputs": [],
   "source": [
    "# Get smaller dataset\n",
    "small_data = load_hdf5('small_dataset.h5')\n",
    "\n",
    "# Get larger dataset\n",
    "large_data = load_hdf5('large_dataset.h5')"
   ]
  },
  {
   "cell_type": "markdown",
   "metadata": {},
   "source": [
    "## 3. Introduction to PCA\n",
    "\n",
    "<div style=\"text-align:center\"><img src=https://devopedia.org/images/article/139/4543.1548137789.jpg width=\"600\" title=\"Source: Lavrenko and Sutton 2011, Slide 13\" align=\"center\"></div>"
   ]
  },
  {
   "cell_type": "markdown",
   "metadata": {},
   "source": [
    "**Goal**: Extract most important information. It means compression?\n",
    "\n",
    "<div style=\"text-align:center\"> Less Memory and Faster Computation   [---- TRADE-OFF ----]    Information Loss</div>\n",
    "\n",
    "**What is PCA**: Too many variables correlated with each other? One can utilize Principal Component Analysis (PCA) to reduces the dimensionality of the dataset while keeping the maximum possible variation present in the dataset.\n",
    "\n",
    "**Most Common Application of PCA**: If the input dimension is too high.\n",
    "\n",
    "**Example**: \n",
    "\n",
    "<div style=\"text-align:center\"><img src=https://devopedia.org/images/article/139/9153.1547301619.png width=\"600\" title=\"Source: Werner and Friedrich 2014\" align=\"center\"></div>\n",
    "\n",
    "- Transform  hight and width variables to two orthogonal variables.\n",
    "- The blue line (first component) explains most of the variation in the data.\n",
    "- The second component explains the remaining variation. \n",
    "- Both orthogonal components are linear combination of hight and width\n",
    "\n",
    "$PC_1 = \\alpha_1 \\times Hight + \\beta_1 \\times Width$\n",
    "\n",
    "$PC_2 = \\alpha_2 \\times Hight + \\beta_2 \\times Width$\n",
    "\n",
    "- First component: the line that minimizes information loss when fit to actual dataset.\n",
    "- First component: it explains most of variation in the dataset.\n",
    "\n",
    "**Is PCA same as dimensionality reduction?**: Feature Elimination vs. Feature Extraction (PCA)\n",
    "\n",
    "**PCA Advantages**:\n",
    "- Minimization of information loss.\n",
    "- PCA is unsupervised learning method. No need for *a priori* on components!\n",
    "- Enables easier data visualization.\n",
    "- Why visualization? Find patterns, clusters, and trends in the data.\n",
    "- PCA reduces noise. \n",
    "- PCA is just an eigenvalue/eigenvector problem.\n",
    "- PCA maximize variance and preserves large pairwise distances.\n",
    "\n",
    "\n",
    "**PCA Drawbacks**:\n",
    "- Only works for linearly correlated variables. \n",
    "- PCA fails when there is no correlation.\n",
    "- Information is lost. \n",
    "- Scaling can yield different results. \n",
    "- Visualization cannot provide meaningful information to relate original variables. "
   ]
  },
  {
   "cell_type": "markdown",
   "metadata": {},
   "source": [
    "## 4. PCA on small and large dataset: CPU"
   ]
  },
  {
   "cell_type": "code",
   "execution_count": 6,
   "metadata": {},
   "outputs": [],
   "source": [
    "# Scaling data: mean = 0 & variance = 1\n",
    "small_data = StandardScaler().fit_transform(small_data)\n",
    "large_data = StandardScaler().fit_transform(large_data)"
   ]
  },
  {
   "cell_type": "code",
   "execution_count": 7,
   "metadata": {},
   "outputs": [
    {
     "name": "stdout",
     "output_type": "stream",
     "text": [
      "[PCA_Small_Dataset]\n",
      "Elapsed: 0.1777031421661377\n",
      "\n",
      "[PCA_Large_Dataset]\n",
      "Elapsed: 5.172924757003784\n",
      "\n"
     ]
    }
   ],
   "source": [
    "# PCA transform: CPU Serial\n",
    "pca_1 = PCA(n_components=2)\n",
    "pca_2 = PCA(n_components=2)\n",
    "\n",
    "with Timer(\"PCA_Small_Dataset\"):\n",
    "    pr_comps_1 = pca_1.fit_transform(small_data)\n",
    "\n",
    "with Timer(\"PCA_Large_Dataset\"):\n",
    "    pr_comps_2 = pca_2.fit_transform(large_data)"
   ]
  },
  {
   "cell_type": "code",
   "execution_count": 8,
   "metadata": {},
   "outputs": [
    {
     "data": {
      "image/png": "[encoded data removed]",
      "text/plain": [
       "<Figure size 432x288 with 1 Axes>"
      ]
     },
     "metadata": {
      "needs_background": "light"
     },
     "output_type": "display_data"
    },
    {
     "data": {
      "image/png": "[encoded data removed]",
      "text/plain": [
       "<Figure size 432x288 with 1 Axes>"
      ]
     },
     "metadata": {
      "needs_background": "light"
     },
     "output_type": "display_data"
    }
   ],
   "source": [
    "# Plot PCA\n",
    "plot_pca(pr_comps_1[:,0], pr_comps_1[:,1], \"Small Dataset\")\n",
    "plot_pca(pr_comps_2[:,0], pr_comps_2[:,1], \"Large Dataset\")"
   ]
  },
  {
   "cell_type": "code",
   "execution_count": 9,
   "metadata": {},
   "outputs": [
    {
     "name": "stdout",
     "output_type": "stream",
     "text": [
      "Explained variance by PCA: small dataset:\n",
      "[21.79083916  6.99218148]\n",
      "Explained variance by PCA: large dataset:\n",
      "[6.82614736 5.17513125]\n"
     ]
    }
   ],
   "source": [
    "# Explained variance by PCA\n",
    "print('Explained variance by PCA: small dataset:')\n",
    "print(pca_1.explained_variance_ratio_*100)\n",
    "\n",
    "print('Explained variance by PCA: large dataset:')\n",
    "print(pca_2.explained_variance_ratio_*100)"
   ]
  },
  {
   "cell_type": "markdown",
   "metadata": {},
   "source": [
    "**What do you think about PCA result?**\n",
    "\n",
    "**Why explained variance by PCA is not high enough on both datasets?**\n",
    "\n",
    "**Is there any sign of nonlinear relation between variables in the dataset?**"
   ]
  },
  {
   "cell_type": "markdown",
   "metadata": {},
   "source": [
    "**Time complexity of PCA ($n$ observations, $d$ dimensions)**\n",
    "\n",
    "- Covariance matrix computation: $O(d^2n)$\n",
    "- Eigen-value decomposition: $O(d^3)$.\n",
    "- PCA: $O(d^2n+d^3)$."
   ]
  },
  {
   "cell_type": "markdown",
   "metadata": {},
   "source": [
    "## 5. PCA on small and large dataset: GPU"
   ]
  },
  {
   "cell_type": "code",
   "execution_count": 10,
   "metadata": {},
   "outputs": [
    {
     "name": "stdout",
     "output_type": "stream",
     "text": [
      "[PCA_Small_Dataset]\n",
      "Elapsed: 0.7214851379394531\n",
      "\n",
      "[PCA_Large_Dataset]\n",
      "Elapsed: 0.254382848739624\n",
      "\n"
     ]
    }
   ],
   "source": [
    "# Nvidia RAPIDS cuML PCA\n",
    "pca_1 = cumlPCA(n_components = 2)\n",
    "pca_2 = cumlPCA(n_components = 2)\n",
    "\n",
    "with Timer(\"PCA_Small_Dataset\"):\n",
    "    pr_comps_1 = pca_1.fit_transform(small_data)\n",
    "\n",
    "with Timer(\"PCA_Large_Dataset\"):\n",
    "    pr_comps_2 = pca_2.fit_transform(large_data)"
   ]
  },
  {
   "cell_type": "code",
   "execution_count": 11,
   "metadata": {},
   "outputs": [
    {
     "name": "stdout",
     "output_type": "stream",
     "text": [
      "Explained variance by PCA: small dataset:\n",
      "0    21.790839\n",
      "1     6.992182\n",
      "dtype: float64\n",
      "Explained variance by PCA: large dataset:\n",
      "0    6.826147\n",
      "1    5.175135\n",
      "dtype: float64\n"
     ]
    }
   ],
   "source": [
    "# Explained variance by PCA\n",
    "print('Explained variance by PCA: small dataset:')\n",
    "print(pca_1.explained_variance_ratio_*100)\n",
    "\n",
    "print('Explained variance by PCA: large dataset:')\n",
    "print(pca_2.explained_variance_ratio_*100)"
   ]
  },
  {
   "cell_type": "markdown",
   "metadata": {},
   "source": [
    "## 6. Introduction to t-SNE\n",
    "\n",
    "<div style=\"text-align:center\"><img src=https://www.researchgate.net/profile/Lei_Luo6/publication/258392870/figure/fig3/AS:323073124388865@1454038043128/From-a-to-d-a-Swiss-roll-and-its-hash-codes-embedded-to-3D-by-PCA-after-applying.png width=\"400\" title=\"Source: L. Luo, C. Zhang, Y. Qin, C. Zhang, Mathematical Problems in Engineering 2013\" align=\"center\"></div>"
   ]
  },
  {
   "cell_type": "markdown",
   "metadata": {},
   "source": [
    "**Stochastic Neighbor Embedding**\n",
    "The goal is to use conditional probabilities to match distributions of distances (Gaussian-distributed) between data points in high and low dimensional space.\n",
    "\n",
    "![title](img/sne.png)\n",
    "\n",
    "KL divergence is asymmetric,\n",
    "- Nearby data points in HD space to widely separated data points in LD space: high cost\n",
    "- Widely separated data points in HD space to nearby data points in LD space: low cost\n",
    "- Thus it preserves local structure.\n",
    "- The $\\sigma_i$ is called **perplexity** ~ number of close neighbors of each data points\n",
    "- Gradient of the cost function in SNE:   \n",
    "$\\frac{\\partial C}{\\partial y_i} = 2 \\sum_j{( p_{j|i} - q_{j|i} + p_{i|j} - q_{i|j} ) ( y_i - y_j )}$\n",
    "\n",
    "- SNE utilizes Gradient Descent for optimization.\n",
    "- SNE addes a momentum term: speed up the optimization, avoid local optima   \n",
    "$y^{(t)} = y^{(t-1)} + \\eta \\frac{\\partial C}{\\partial y} + \\alpha(t) (y^{(t-1)} - y^{(t-2)})$\n",
    "- Issues with SNE: difficulty in **optimization of cost function** and **crowding problem**\n",
    "\n",
    "**How to resolve issues in SNE**?\n",
    "Symmetric SNE has a symmetric cost function ($p_{i|j}=p_{j|i}$ and $q_{i|j}=q_{j|i}$).\n",
    "\n",
    "![title](img/tsne.png)\n",
    "\n",
    "- Gradient of the cost function in symmetric SNE:  \n",
    "$\\frac{\\partial C}{\\partial y_i} = 4 \\sum_j{( p_{ji} - q_{ji} ) ( y_i - y_j )}$\n",
    "\n",
    "\n",
    "**Another solution to SNE: t-SNE**\n",
    "- t-SNE stands for **t-Distributed Stochastic Neighbor Embedding**.\n",
    "- t-SNE is unsupervised and **non-linear** dimensionality reduction technique.\n",
    "- t-SNE is utilized for data exploration and visualizing **high-dimensional data**.\n",
    "- t-SNE was developed by *Laurens van der Maatens* and *Geoffrey Hinton* in 2008.\n",
    "- t-SNE preserves only small pairwise distances or local similarities.\n",
    "- t-SNE preserves local structure and the global structure [as much as possible].\n",
    "- PCA preserves large pairwise distances to maximize variance.\n",
    "- t-SNE computes the similarities between data points in LD space by **Student t-distribution**.\n",
    "- [Barnes-Hut implementation of t-SNE](https://lvdmaaten.github.io/publications/papers/JMLR_2014.pdf) makes the algorithm faster by using a tree structure.\n",
    "\n",
    "![title](img/tsne2.png)\n",
    "\n",
    "**t-SNE algorithm**\n",
    "\n",
    "![title](img/tsne3.png)\n",
    "\n",
    "**[How to Use t-SNE Effectively](https://distill.pub/2016/misread-tsne/)**\n",
    "\n",
    "[[t-SNE slides credit](https://github.com/Divyagash)]"
   ]
  },
  {
   "cell_type": "markdown",
   "metadata": {},
   "source": [
    "## 7. t-SNE on small and large dataset: CPU "
   ]
  },
  {
   "cell_type": "code",
   "execution_count": 12,
   "metadata": {
    "scrolled": false
   },
   "outputs": [
    {
     "name": "stdout",
     "output_type": "stream",
     "text": [
      "[t-SNE] Computing 91 nearest neighbors...\n",
      "[t-SNE] Indexed 42892 samples in 0.349s...\n",
      "[t-SNE] Computed neighbors for 42892 samples in 218.742s...\n",
      "[t-SNE] Computed conditional probabilities for sample 1000 / 42892\n",
      "[t-SNE] Computed conditional probabilities for sample 2000 / 42892\n",
      "[t-SNE] Computed conditional probabilities for sample 3000 / 42892\n",
      "[t-SNE] Computed conditional probabilities for sample 4000 / 42892\n",
      "[t-SNE] Computed conditional probabilities for sample 5000 / 42892\n",
      "[t-SNE] Computed conditional probabilities for sample 6000 / 42892\n",
      "[t-SNE] Computed conditional probabilities for sample 7000 / 42892\n",
      "[t-SNE] Computed conditional probabilities for sample 8000 / 42892\n",
      "[t-SNE] Computed conditional probabilities for sample 9000 / 42892\n",
      "[t-SNE] Computed conditional probabilities for sample 10000 / 42892\n",
      "[t-SNE] Computed conditional probabilities for sample 11000 / 42892\n",
      "[t-SNE] Computed conditional probabilities for sample 12000 / 42892\n",
      "[t-SNE] Computed conditional probabilities for sample 13000 / 42892\n",
      "[t-SNE] Computed conditional probabilities for sample 14000 / 42892\n",
      "[t-SNE] Computed conditional probabilities for sample 15000 / 42892\n",
      "[t-SNE] Computed conditional probabilities for sample 16000 / 42892\n",
      "[t-SNE] Computed conditional probabilities for sample 17000 / 42892\n",
      "[t-SNE] Computed conditional probabilities for sample 18000 / 42892\n",
      "[t-SNE] Computed conditional probabilities for sample 19000 / 42892\n",
      "[t-SNE] Computed conditional probabilities for sample 20000 / 42892\n",
      "[t-SNE] Computed conditional probabilities for sample 21000 / 42892\n",
      "[t-SNE] Computed conditional probabilities for sample 22000 / 42892\n",
      "[t-SNE] Computed conditional probabilities for sample 23000 / 42892\n",
      "[t-SNE] Computed conditional probabilities for sample 24000 / 42892\n",
      "[t-SNE] Computed conditional probabilities for sample 25000 / 42892\n",
      "[t-SNE] Computed conditional probabilities for sample 26000 / 42892\n",
      "[t-SNE] Computed conditional probabilities for sample 27000 / 42892\n",
      "[t-SNE] Computed conditional probabilities for sample 28000 / 42892\n",
      "[t-SNE] Computed conditional probabilities for sample 29000 / 42892\n",
      "[t-SNE] Computed conditional probabilities for sample 30000 / 42892\n",
      "[t-SNE] Computed conditional probabilities for sample 31000 / 42892\n",
      "[t-SNE] Computed conditional probabilities for sample 32000 / 42892\n",
      "[t-SNE] Computed conditional probabilities for sample 33000 / 42892\n",
      "[t-SNE] Computed conditional probabilities for sample 34000 / 42892\n",
      "[t-SNE] Computed conditional probabilities for sample 35000 / 42892\n",
      "[t-SNE] Computed conditional probabilities for sample 36000 / 42892\n",
      "[t-SNE] Computed conditional probabilities for sample 37000 / 42892\n",
      "[t-SNE] Computed conditional probabilities for sample 38000 / 42892\n",
      "[t-SNE] Computed conditional probabilities for sample 39000 / 42892\n",
      "[t-SNE] Computed conditional probabilities for sample 40000 / 42892\n",
      "[t-SNE] Computed conditional probabilities for sample 41000 / 42892\n",
      "[t-SNE] Computed conditional probabilities for sample 42000 / 42892\n",
      "[t-SNE] Computed conditional probabilities for sample 42892 / 42892\n",
      "[t-SNE] Mean sigma: 2.054269\n",
      "[t-SNE] KL divergence after 250 iterations with early exaggeration: 99.567719\n",
      "[t-SNE] KL divergence after 1000 iterations: 2.814518\n",
      "[tSNE_Small_Dataset]\n",
      "Elapsed: 565.6914410591125\n",
      "\n"
     ]
    }
   ],
   "source": [
    "# t-SNE transform\n",
    "tsne_1 = TSNE(n_components=2, n_jobs=-1, verbose=1)\n",
    "tsne_2 = TSNE(n_components=2, n_jobs=-1, verbose=1)\n",
    "\n",
    "with Timer(\"tSNE_Small_Dataset\"):\n",
    "    tsne_comps_1 = tsne_1.fit_transform(small_data)\n",
    "\n",
    "# with Timer(\"tSNE_Large_Dataset\"):\n",
    "#     tsne_comps_2 = tsne_2.fit_transform(large_data)"
   ]
  },
  {
   "cell_type": "code",
   "execution_count": 13,
   "metadata": {},
   "outputs": [
    {
     "name": "stdout",
     "output_type": "stream",
     "text": [
      "[tSNE_Small_Dataset]\n",
      "Elapsed: 103.53602266311646\n",
      "\n"
     ]
    }
   ],
   "source": [
    "# t-SNE transform\n",
    "tsne_1 = mlcoreTSNE(n_components=2, n_jobs=-1, verbose=1)\n",
    "tsne_2 = mlcoreTSNE(n_components=2, n_jobs=-1, verbose=1)\n",
    "\n",
    "with Timer(\"tSNE_Small_Dataset\"):\n",
    "    tsne_comps_1 = tsne_1.fit_transform(small_data)\n",
    "\n",
    "# with Timer(\"tSNE_Large_Dataset\"):\n",
    "#     tsne_comps_2 = tsne_2.fit_transform(large_data)"
   ]
  },
  {
   "cell_type": "markdown",
   "metadata": {},
   "source": [
    "![title](img/tsne_time.png)\n",
    "\n",
    "![title](img/tsne_speed.png)"
   ]
  },
  {
   "cell_type": "markdown",
   "metadata": {},
   "source": [
    "## 8. t-SNE on small and large dataset: GPU"
   ]
  },
  {
   "cell_type": "code",
   "execution_count": 14,
   "metadata": {},
   "outputs": [
    {
     "name": "stdout",
     "output_type": "stream",
     "text": [
      "Learning rate is adaptive. In TSNE paper, it has been shown that as n->inf, Barnes Hut works well if n_neighbors->30, learning_rate->20000, early_exaggeration->24.\n",
      "cuML uses an adpative method.n_neighbors decreases to 30 as n->inf. Likewise for the other params.\n",
      "New n_neighbors = 50, learning_rate = 14297.333333333332, exaggeration = 24.0\n",
      "[tSNE_Small_Dataset]\n",
      "Elapsed: 2.2934529781341553\n",
      "\n",
      "Learning rate is adaptive. In TSNE paper, it has been shown that as n->inf, Barnes Hut works well if n_neighbors->30, learning_rate->20000, early_exaggeration->24.\n",
      "cuML uses an adpative method.n_neighbors decreases to 30 as n->inf. Likewise for the other params.\n",
      "New n_neighbors = 30, learning_rate = 346677.3333333333, exaggeration = 24.0\n",
      "[tSNE_Large_Dataset]\n",
      "Elapsed: 58.560832023620605\n",
      "\n"
     ]
    }
   ],
   "source": [
    "tsne_1 = cumlTSNE(n_components=2, verbose=1, method='barnes_hut')\n",
    "tsne_2 = cumlTSNE(n_components=2, verbose=1, method='barnes_hut')\n",
    "\n",
    "with Timer(\"tSNE_Small_Dataset\"):\n",
    "    tsne_comps_1 = tsne_1.fit_transform(small_data)\n",
    "\n",
    "\n",
    "with Timer(\"tSNE_Large_Dataset\"):\n",
    "    tsne_comps_2 = tsne_2.fit_transform(large_data)"
   ]
  },
  {
   "cell_type": "markdown",
   "metadata": {},
   "source": [
    "**Check GPU utilization**"
   ]
  },
  {
   "cell_type": "code",
   "execution_count": null,
   "metadata": {},
   "outputs": [],
   "source": [
    "!nvidia-smi"
   ]
  },
  {
   "cell_type": "markdown",
   "metadata": {},
   "source": [
    "![title](img/nvidia_smi.png)"
   ]
  }
 ],
 "metadata": {
  "kernelspec": {
   "display_name": "Python [conda env:datafest]",
   "language": "python",
   "name": "conda-env-datafest-py"
  },
  "language_info": {
   "codemirror_mode": {
    "name": "ipython",
    "version": 3
   },
   "file_extension": ".py",
   "mimetype": "text/x-python",
   "name": "python",
   "nbconvert_exporter": "python",
   "pygments_lexer": "ipython3",
   "version": "3.7.6"
  }
 },
 "nbformat": 4,
 "nbformat_minor": 4
}
